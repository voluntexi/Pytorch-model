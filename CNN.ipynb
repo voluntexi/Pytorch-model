{
 "cells": [
  {
   "cell_type": "code",
   "execution_count": 2,
   "metadata": {
    "collapsed": true
   },
   "outputs": [],
   "source": [
    "import torch\n",
    "import torch.nn as nn\n",
    "import torch.nn.functional as F"
   ]
  },
  {
   "cell_type": "code",
   "execution_count": 83,
   "outputs": [
    {
     "data": {
      "text/plain": "neural(\n  (conv1): Conv2d(1, 6, kernel_size=(5, 5), stride=(1, 1))\n  (conv2): Conv2d(6, 16, kernel_size=(5, 5), stride=(1, 1))\n  (fc1): Linear(in_features=400, out_features=120, bias=True)\n  (fc2): Linear(in_features=120, out_features=84, bias=True)\n  (fc3): Linear(in_features=84, out_features=10, bias=True)\n  (flat): Flatten(start_dim=1, end_dim=-1)\n)"
     },
     "execution_count": 83,
     "metadata": {},
     "output_type": "execute_result"
    }
   ],
   "source": [
    "class neural(nn.Module):\n",
    "    def __init__(self):\n",
    "        super(neural,self).__init__()\n",
    "        self.conv1=nn.Conv2d(1,6,5)\n",
    "        # 1 input image channel, 6 output channels, 5x5 square convolution kernel\n",
    "        self.conv2=nn.Conv2d(6,16,5)\n",
    "        self.fc1=nn.Linear(16*5*5,120)\n",
    "        self.fc2=nn.Linear(120,84)\n",
    "        self.fc3=nn.Linear(84,10)\n",
    "        self.flat=nn.Flatten()\n",
    "    def forward(self,x):\n",
    "        x=F.max_pool2d(F.relu(self.conv1(x)),(2,2))\n",
    "        x = F.max_pool2d(F.relu(self.conv2(x)), 2)\n",
    "        x=self.flat(x)\n",
    "        x=self.fc3(F.relu(self.fc2(F.relu(self.fc1(x)))))\n",
    "        return x\n",
    "    def num_flat_features(self,x):\n",
    "        size=x.size()[1:]\n",
    "        num_features=1\n",
    "        print(size)\n",
    "        for s in size:\n",
    "            num_features*=s\n",
    "        return num_features\n",
    "net=neural()\n",
    "net"
   ],
   "metadata": {
    "collapsed": false
   }
  },
  {
   "cell_type": "code",
   "execution_count": 85,
   "outputs": [
    {
     "data": {
      "text/plain": "tensor([[ 0.0511,  0.0706,  0.1261, -0.0189, -0.0084,  0.0674, -0.0273, -0.0186,\n         -0.0117, -0.1210]], grad_fn=<AddmmBackward0>)"
     },
     "execution_count": 85,
     "metadata": {},
     "output_type": "execute_result"
    }
   ],
   "source": [
    "x=torch.randn(1,1,32,32)\n",
    "out=net(x)\n",
    "out"
   ],
   "metadata": {
    "collapsed": false
   }
  },
  {
   "cell_type": "code",
   "execution_count": 76,
   "outputs": [],
   "source": [
    "net.zero_grad()\n",
    "out.backward(torch.randn(1,10))"
   ],
   "metadata": {
    "collapsed": false
   }
  },
  {
   "cell_type": "code",
   "execution_count": 77,
   "outputs": [
    {
     "data": {
      "text/plain": "tensor([[ 0.0318,  0.0583, -0.0021,  0.0046,  0.0891, -0.0577,  0.0437,  0.0744,\n         -0.1049,  0.0579]], grad_fn=<AddmmBackward0>)"
     },
     "execution_count": 77,
     "metadata": {},
     "output_type": "execute_result"
    }
   ],
   "source": [
    "out"
   ],
   "metadata": {
    "collapsed": false
   }
  },
  {
   "cell_type": "code",
   "execution_count": 79,
   "outputs": [
    {
     "name": "stdout",
     "output_type": "stream",
     "text": [
      "torch.Size([16, 5, 5])\n",
      "tensor(0.7509, grad_fn=<MseLossBackward0>)\n"
     ]
    }
   ],
   "source": [
    "output = net(x)\n",
    "target=torch.randn(10).view(1,-1)\n",
    "crit=nn.MSELoss()\n",
    "loss = crit(output, target)\n",
    "print(loss)"
   ],
   "metadata": {
    "collapsed": false
   }
  },
  {
   "cell_type": "code",
   "execution_count": 80,
   "outputs": [
    {
     "name": "stdout",
     "output_type": "stream",
     "text": [
      "tensor([0., 0., 0., 0., 0., 0.])\n",
      "tensor([-0.0088, -0.0048, -0.0014, -0.0009, -0.0010,  0.0002])\n"
     ]
    }
   ],
   "source": [
    "net.zero_grad()\n",
    "print(net.conv1.bias.grad)\n",
    "loss.backward()\n",
    "print(net.conv1.bias.grad)"
   ],
   "metadata": {
    "collapsed": false
   }
  },
  {
   "cell_type": "code",
   "execution_count": 81,
   "outputs": [],
   "source": [
    "learn_rate=0.01\n",
    "for f in net.parameters():\n",
    "    f.data.sub_(f-learn_rate*f.grad.data)"
   ],
   "metadata": {
    "collapsed": false
   }
  },
  {
   "cell_type": "code",
   "execution_count": 82,
   "outputs": [
    {
     "name": "stdout",
     "output_type": "stream",
     "text": [
      "torch.Size([16, 5, 5])\n"
     ]
    }
   ],
   "source": [
    "import torch.optim as optim\n",
    "optimzer=optim.SGD(net.parameters(),lr=0.01)\n",
    "optimzer.zero_grad()\n",
    "output=net(x)\n",
    "loss=crit(output,target)\n",
    "loss.backward()\n",
    "optimzer.step()"
   ],
   "metadata": {
    "collapsed": false
   }
  },
  {
   "cell_type": "code",
   "execution_count": 88,
   "outputs": [
    {
     "data": {
      "text/plain": "2"
     },
     "execution_count": 88,
     "metadata": {},
     "output_type": "execute_result"
    }
   ],
   "source": [
    "pre=nn.Softmax(dim=1)(net(x))\n",
    "y=pre.argmax(1)\n",
    "y.item()"
   ],
   "metadata": {
    "collapsed": false
   }
  },
  {
   "cell_type": "markdown",
   "source": [
    "# 图像分类\n"
   ],
   "metadata": {
    "collapsed": false
   }
  },
  {
   "cell_type": "code",
   "execution_count": 3,
   "outputs": [],
   "source": [
    "import torch\n",
    "import torchvision\n",
    "import torchvision.transforms as transforms"
   ],
   "metadata": {
    "collapsed": false
   }
  },
  {
   "cell_type": "code",
   "execution_count": 4,
   "outputs": [
    {
     "name": "stdout",
     "output_type": "stream",
     "text": [
      "Files already downloaded and verified\n",
      "Files already downloaded and verified\n"
     ]
    }
   ],
   "source": [
    "transform=transforms.Compose(\n",
    "    [transforms.ToTensor(),\n",
    "     transforms.Normalize((0.5,0.5,0.5),(0.5,0.5,0.5))]\n",
    ")\n",
    "trainset=torchvision.datasets.CIFAR10(root='./data', train=True,download=True, transform=transform)\n",
    "testset=torchvision.datasets.CIFAR10(root='./data', train=False,download=True, transform=transform)\n",
    "trainLoader=torch.utils.data.DataLoader(trainset,batch_size=4,shuffle=True,num_workers=2)\n",
    "testLoader=torch.utils.data.DataLoader(testset,batch_size=4,shuffle=False,num_workers=2)\n",
    "classes = ('plane', 'car', 'bird', 'cat',\n",
    "           'deer', 'dog', 'frog', 'horse', 'ship', 'truck')"
   ],
   "metadata": {
    "collapsed": false
   }
  },
  {
   "cell_type": "code",
   "execution_count": 24,
   "outputs": [
    {
     "name": "stdout",
     "output_type": "stream",
     "text": [
      "  dog   car   cat truck\n"
     ]
    },
    {
     "data": {
      "text/plain": "<Figure size 640x480 with 1 Axes>",
      "image/png": "[encoded data removed]"
     },
     "metadata": {},
     "output_type": "display_data"
    }
   ],
   "source": [
    "import matplotlib.pyplot as plt\n",
    "import numpy as np\n",
    "def imshow(img):\n",
    "    img=img/2+0.5\n",
    "    nping=img.numpy()\n",
    "    plt.imshow(np.transpose(nping,(1,2,0)))\n",
    "dataiter=iter(trainLoader)\n",
    "images,labels=dataiter.next()\n",
    "imshow(torchvision.utils.make_grid(images))\n",
    "print(' '.join('%5s' % classes[labels[j]] for j in range(4)))"
   ],
   "metadata": {
    "collapsed": false
   }
  },
  {
   "cell_type": "code",
   "execution_count": 25,
   "outputs": [
    {
     "data": {
      "text/plain": "neural(\n  (conv1): Conv2d(3, 6, kernel_size=(5, 5), stride=(1, 1))\n  (pool): MaxPool2d(kernel_size=2, stride=2, padding=0, dilation=1, ceil_mode=False)\n  (conv2): Conv2d(6, 16, kernel_size=(5, 5), stride=(1, 1))\n  (fc1): Linear(in_features=400, out_features=120, bias=True)\n  (fc2): Linear(in_features=120, out_features=84, bias=True)\n  (fc3): Linear(in_features=84, out_features=10, bias=True)\n  (flat): Flatten(start_dim=1, end_dim=-1)\n)"
     },
     "execution_count": 25,
     "metadata": {},
     "output_type": "execute_result"
    }
   ],
   "source": [
    "class neural(nn.Module):\n",
    "    def __init__(self):\n",
    "        super(neural,self).__init__()\n",
    "        self.conv1=nn.Conv2d(3,6,5)\n",
    "        self.pool=nn.MaxPool2d(2,2)\n",
    "        self.conv2=nn.Conv2d(6,16,5)\n",
    "        self.fc1=nn.Linear(16*5*5,120)\n",
    "        self.fc2=nn.Linear(120,84)\n",
    "        self.fc3=nn.Linear(84,10)\n",
    "        self.flat=nn.Flatten()\n",
    "    def forward(self,x):\n",
    "        x=self.pool(F.relu(self.conv1(x)))\n",
    "        x=self.pool(F.relu(self.conv2(x)))\n",
    "        x=self.flat(x)\n",
    "        # x = x.view(-1, 16 * 5 * 5)\n",
    "        x=F.relu(self.fc1(x))\n",
    "        x=F.relu(self.fc2(x))\n",
    "        x=self.fc3(x)\n",
    "        return x\n",
    "net=neural()\n",
    "net"
   ],
   "metadata": {
    "collapsed": false
   }
  },
  {
   "cell_type": "code",
   "execution_count": 26,
   "outputs": [],
   "source": [
    "import torch.optim as optim\n",
    "crit=nn.CrossEntropyLoss()\n",
    "optimzer=optim.SGD(net.parameters(),lr=0.001,momentum=0.9)"
   ],
   "metadata": {
    "collapsed": false
   }
  },
  {
   "cell_type": "code",
   "execution_count": 27,
   "outputs": [
    {
     "name": "stdout",
     "output_type": "stream",
     "text": [
      "[1] loss: 1.769\n",
      "准确率：0.37562\n",
      "[2] loss: 1.394\n",
      "准确率：0.44768\n",
      "[3] loss: 1.253\n",
      "准确率：0.48961333333333334\n",
      "[4] loss: 1.163\n",
      "准确率：0.519305\n",
      "[5] loss: 1.087\n",
      "准确率：0.541372\n",
      "[6] loss: 1.025\n",
      "准确率：0.55991\n",
      "[7] loss: 0.975\n",
      "准确率：0.5755914285714285\n",
      "[8] loss: 0.935\n",
      "准确率：0.5890575\n",
      "[9] loss: 0.897\n",
      "准确率：0.6010888888888889\n",
      "[10] loss: 0.863\n",
      "准确率：0.61159\n",
      "finishing training\n"
     ]
    }
   ],
   "source": [
    "total,correct=0,0\n",
    "for epoch in range(10):\n",
    "    running_loss=0.0\n",
    "    for i,data in enumerate(trainLoader,0):\n",
    "        inputs,labels=data\n",
    "        optimzer.zero_grad()\n",
    "        outputs=net(inputs)\n",
    "        loss=crit(outputs,labels)\n",
    "        loss.backward()\n",
    "        optimzer.step()\n",
    "        running_loss+=loss.item()\n",
    "        _,predicted=torch.max(outputs,1)\n",
    "        total+=labels.size(0)\n",
    "        correct+=(predicted==labels).sum().item()\n",
    "    print('[%d] loss: %.3f' %(epoch + 1, running_loss / 12001))\n",
    "    running_loss = 0.0\n",
    "    print(f\"准确率：{correct/total}\")\n",
    "print(\"finishing training\")\n"
   ],
   "metadata": {
    "collapsed": false
   }
  },
  {
   "cell_type": "code",
   "execution_count": 115,
   "outputs": [
    {
     "data": {
      "text/plain": "(torch.Size([4, 3, 32, 32]), torch.Size([4]), torch.Size([4, 10]))"
     },
     "execution_count": 115,
     "metadata": {},
     "output_type": "execute_result"
    }
   ],
   "source": [
    "inputs.size(),labels.size(),outputs.size()"
   ],
   "metadata": {
    "collapsed": false
   }
  },
  {
   "cell_type": "code",
   "execution_count": 28,
   "outputs": [],
   "source": [
    "torch.save(net.state_dict(),\"./CNNmodel.pth\")"
   ],
   "metadata": {
    "collapsed": false
   }
  },
  {
   "cell_type": "code",
   "execution_count": 29,
   "outputs": [
    {
     "data": {
      "text/plain": "(torch.Size([4, 3, 32, 32]), torch.Size([4]))"
     },
     "execution_count": 29,
     "metadata": {},
     "output_type": "execute_result"
    }
   ],
   "source": [
    "dataiter=iter(testLoader)\n",
    "images,labels=dataiter.next()\n",
    "images.size(),labels.size()"
   ],
   "metadata": {
    "collapsed": false
   }
  },
  {
   "cell_type": "code",
   "execution_count": 30,
   "outputs": [
    {
     "name": "stdout",
     "output_type": "stream",
     "text": [
      "GroundTruth:    cat  ship  ship plane\n"
     ]
    },
    {
     "data": {
      "text/plain": "<Figure size 640x480 with 1 Axes>",
      "image/png": "[encoded data removed]"
     },
     "metadata": {},
     "output_type": "display_data"
    }
   ],
   "source": [
    "imshow(torchvision.utils.make_grid(images))\n",
    "print('GroundTruth: ', ' '.join('%5s' % classes[labels[j]] for j in range(4)))"
   ],
   "metadata": {
    "collapsed": false
   }
  },
  {
   "cell_type": "code",
   "execution_count": 31,
   "outputs": [
    {
     "data": {
      "text/plain": "tensor([[-3.6854, -4.5806, -1.2442,  8.0637, -0.1521,  4.0705,  1.3964, -1.3048,\n          1.1213, -3.9181],\n        [ 3.8001,  7.6410, -0.3925, -3.7518, -4.2879, -5.6942, -5.1502, -6.3730,\n          8.8607,  1.1198],\n        [ 2.0054,  1.2810, -0.1252, -0.5392, -0.1219, -0.5374, -2.1950, -0.8549,\n          0.7210,  1.4290],\n        [ 3.9501, -1.8480,  2.3590,  0.1226, -0.5594, -2.6836, -2.0022, -2.5636,\n          2.4543,  0.4164]], grad_fn=<AddmmBackward0>)"
     },
     "execution_count": 31,
     "metadata": {},
     "output_type": "execute_result"
    }
   ],
   "source": [
    "net=neural()\n",
    "net.load_state_dict(torch.load(\"./CNNmodel.pth\"))\n",
    "outputs=net(images)\n",
    "outputs"
   ],
   "metadata": {
    "collapsed": false
   }
  },
  {
   "cell_type": "code",
   "execution_count": 32,
   "outputs": [
    {
     "data": {
      "text/plain": "(tensor([8.0637, 8.8607, 2.0054, 3.9501], grad_fn=<MaxBackward0>),\n tensor([3, 8, 0, 0]))"
     },
     "execution_count": 32,
     "metadata": {},
     "output_type": "execute_result"
    }
   ],
   "source": [
    "_,predicted=torch.max(outputs,1) #返回每一行中的最大元素\n",
    "_,predicted"
   ],
   "metadata": {
    "collapsed": false
   }
  },
  {
   "cell_type": "code",
   "execution_count": 33,
   "outputs": [
    {
     "data": {
      "text/plain": "['cat', 'ship', 'plane', 'plane']"
     },
     "execution_count": 33,
     "metadata": {},
     "output_type": "execute_result"
    }
   ],
   "source": [
    "[classes[predicted[j]] for j in range(4)]"
   ],
   "metadata": {
    "collapsed": false
   }
  },
  {
   "cell_type": "code",
   "execution_count": 34,
   "outputs": [
    {
     "name": "stdout",
     "output_type": "stream",
     "text": [
      "0.6353\n"
     ]
    }
   ],
   "source": [
    "correct=0\n",
    "total=0\n",
    "device=torch.device(\"cuda\" if torch.cuda.is_available() else \"cpu\")\n",
    "net.to(device)\n",
    "with torch.no_grad():\n",
    "    for data in testLoader:\n",
    "        images,labels=data\n",
    "        images=images.to(device)\n",
    "        labels=labels.to(device)\n",
    "        outputs=net(images)\n",
    "        _,predicted=torch.max(outputs,1)\n",
    "        total+=labels.size(0)\n",
    "        correct+=(predicted==labels).sum().item()\n",
    "print(correct/total)"
   ],
   "metadata": {
    "collapsed": false
   }
  },
  {
   "cell_type": "code",
   "execution_count": 35,
   "outputs": [
    {
     "name": "stdout",
     "output_type": "stream",
     "text": [
      "Accuracy of plane : 73 %\n",
      "Accuracy of   car : 74 %\n",
      "Accuracy of  bird : 38 %\n",
      "Accuracy of   cat : 42 %\n",
      "Accuracy of  deer : 58 %\n",
      "Accuracy of   dog : 60 %\n",
      "Accuracy of  frog : 72 %\n",
      "Accuracy of horse : 65 %\n",
      "Accuracy of  ship : 75 %\n",
      "Accuracy of truck : 73 %\n"
     ]
    }
   ],
   "source": [
    "class_correct = list(0. for i in range(10))\n",
    "class_total = list(0. for i in range(10))\n",
    "\n",
    "with torch.no_grad():\n",
    "    for data in testLoader:\n",
    "        images, labels = data\n",
    "        images=images.to(device)\n",
    "        labels=labels.to(device)\n",
    "        outputs = net(images)\n",
    "        _, predicted = torch.max(outputs, 1)\n",
    "        c = (predicted == labels).squeeze()\n",
    "        for i in range(4):\n",
    "            label = labels[i]\n",
    "            class_correct[label] += c[i].item()\n",
    "            class_total[label] += 1\n",
    "for i in range(10):\n",
    "    print('Accuracy of %5s : %2d %%' % (\n",
    "        classes[i], 100 * class_correct[i] / class_total[i]))"
   ],
   "metadata": {
    "collapsed": false
   }
  }
 ],
 "metadata": {
  "kernelspec": {
   "display_name": "Python 3",
   "language": "python",
   "name": "python3"
  },
  "language_info": {
   "codemirror_mode": {
    "name": "ipython",
    "version": 2
   },
   "file_extension": ".py",
   "mimetype": "text/x-python",
   "name": "python",
   "nbconvert_exporter": "python",
   "pygments_lexer": "ipython2",
   "version": "2.7.6"
  }
 },
 "nbformat": 4,
 "nbformat_minor": 0
}
